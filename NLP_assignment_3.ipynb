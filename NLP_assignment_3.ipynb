{
  "nbformat": 4,
  "nbformat_minor": 0,
  "metadata": {
    "colab": {
      "name": "NLP assignment 3",
      "provenance": [],
      "collapsed_sections": []
    },
    "kernelspec": {
      "name": "python3",
      "display_name": "Python 3"
    },
    "accelerator": "GPU"
  },
  "cells": [
    {
      "cell_type": "code",
      "metadata": {
        "id": "NR0_y5b57xzE",
        "colab_type": "code",
        "colab": {}
      },
      "source": [
        "import numpy as np\n",
        "import pandas as pd\n",
        "import string \n",
        "from nltk.tokenize import TweetTokenizer\n",
        "from keras.preprocessing.text import Tokenizer\n",
        "from keras.preprocessing.sequence import pad_sequences"
      ],
      "execution_count": 0,
      "outputs": []
    },
    {
      "cell_type": "code",
      "metadata": {
        "id": "WpsmFyZW71h1",
        "colab_type": "code",
        "outputId": "c72f5621-61ae-44d6-cf32-3fca0e2a1372",
        "colab": {
          "base_uri": "https://localhost:8080/",
          "height": 120
        }
      },
      "source": [
        "from google.colab import drive\n",
        "drive.mount('/content/drive')"
      ],
      "execution_count": 4,
      "outputs": [
        {
          "output_type": "stream",
          "text": [
            "Go to this URL in a browser: https://accounts.google.com/o/oauth2/auth?client_id=947318989803-6bn6qk8qdgf4n4g3pfee6491hc0brc4i.apps.googleusercontent.com&redirect_uri=urn%3aietf%3awg%3aoauth%3a2.0%3aoob&response_type=code&scope=email%20https%3a%2f%2fwww.googleapis.com%2fauth%2fdocs.test%20https%3a%2f%2fwww.googleapis.com%2fauth%2fdrive%20https%3a%2f%2fwww.googleapis.com%2fauth%2fdrive.photos.readonly%20https%3a%2f%2fwww.googleapis.com%2fauth%2fpeopleapi.readonly\n",
            "\n",
            "Enter your authorization code:\n",
            "··········\n",
            "Mounted at /content/drive\n"
          ],
          "name": "stdout"
        }
      ]
    },
    {
      "cell_type": "code",
      "metadata": {
        "id": "xDCOVZw274HD",
        "colab_type": "code",
        "outputId": "20232168-b6c3-4f0a-e355-cf2084b9a7ea",
        "colab": {
          "base_uri": "https://localhost:8080/",
          "height": 217
        }
      },
      "source": [
        "train_ = pd.read_csv('/content/drive/My Drive/train.csv', delimiter=\"\\t\")\n",
        "test_=pd.read_csv('/content/drive/My Drive/test.csv', delimiter=\"\\t\")\n",
        "print(train_.head())\n",
        "print(test_.head())"
      ],
      "execution_count": 5,
      "outputs": [
        {
          "output_type": "stream",
          "text": [
            "            meta  uid sentiment\n",
            "0           meta    3  negative\n",
            "1              @    O       NaN\n",
            "2  AdilNisarButt  Hin       NaN\n",
            "3       pakistan  Hin       NaN\n",
            "4             ka  Hin       NaN\n",
            "              meta  uid sentiment\n",
            "0             meta    8   neutral\n",
            "1               RT  Eng       NaN\n",
            "2                @    O       NaN\n",
            "3  UAAPconfessions  Eng       NaN\n",
            "4             Love  Eng       NaN\n"
          ],
          "name": "stdout"
        }
      ]
    },
    {
      "cell_type": "code",
      "metadata": {
        "id": "guJ0ixtj7-HR",
        "colab_type": "code",
        "colab": {}
      },
      "source": [
        "def extractdat(dataframe):\n",
        "  data = dataframe.loc[:,['meta','sentiment']]\n",
        "  t = \"\"\n",
        "  x = list()\n",
        "  y = list()\n",
        "  for i in range(data.shape[0]):\n",
        "    if(data.iloc[i,0]==\"meta\"):\n",
        "      x.append(t.strip())\n",
        "      y.append(str(data.iloc[i,1]))\n",
        "      t=\"\"\n",
        "    else:\n",
        "      t += (str(data.iloc[i,0])+\" \")\n",
        "  \n",
        "  x.append(t.strip())\n",
        "  \n",
        "  return x[1:], y"
      ],
      "execution_count": 0,
      "outputs": []
    },
    {
      "cell_type": "code",
      "metadata": {
        "id": "rukOaNz-8Beo",
        "colab_type": "code",
        "colab": {}
      },
      "source": [
        "X_train, Y_train = extractdat(train_)\n",
        "X_test, Y_test = extractdat(test_)"
      ],
      "execution_count": 0,
      "outputs": []
    },
    {
      "cell_type": "code",
      "metadata": {
        "id": "O9STP0-D8S_U",
        "colab_type": "code",
        "outputId": "76e7192d-1ecf-49a9-bdbe-61a2aa438335",
        "colab": {
          "base_uri": "https://localhost:8080/",
          "height": 33
        }
      },
      "source": [
        "print(len(X_train), len(Y_train), len(X_test), len(Y_test))"
      ],
      "execution_count": 10,
      "outputs": [
        {
          "output_type": "stream",
          "text": [
            "13524 13524 1869 1869\n"
          ],
          "name": "stdout"
        }
      ]
    },
    {
      "cell_type": "code",
      "metadata": {
        "id": "3oDNcc4j8XLD",
        "colab_type": "code",
        "colab": {}
      },
      "source": [
        "def clean(text, tknzr):\n",
        "  tweet_tokens = tknzr.tokenize(text)\n",
        "  t = \"\"\n",
        "  for j in tweet_tokens:\n",
        "    if(j not in string.punctuation and j not in ['…']):\n",
        "      t += (j.lower())\n",
        "      t+=\" \"\n",
        "  return t.strip()"
      ],
      "execution_count": 0,
      "outputs": []
    },
    {
      "cell_type": "code",
      "metadata": {
        "id": "Ke02W2RI8Zco",
        "colab_type": "code",
        "colab": {}
      },
      "source": [
        "tknzr = TweetTokenizer(strip_handles=True, reduce_len=True)"
      ],
      "execution_count": 0,
      "outputs": []
    },
    {
      "cell_type": "code",
      "metadata": {
        "id": "xSDuw8sA8aWo",
        "colab_type": "code",
        "colab": {}
      },
      "source": [
        "for i in range(len(X_train)):\n",
        "  X_train[i]=(clean(X_train[i],tknzr))"
      ],
      "execution_count": 0,
      "outputs": []
    },
    {
      "cell_type": "code",
      "metadata": {
        "id": "hsp7D7_Y8gcy",
        "colab_type": "code",
        "colab": {}
      },
      "source": [
        "for i in range(len(X_test)):\n",
        "  X_test[i]=(clean(X_test[i], tknzr))"
      ],
      "execution_count": 0,
      "outputs": []
    },
    {
      "cell_type": "code",
      "metadata": {
        "id": "Teuale5x8lYt",
        "colab_type": "code",
        "colab": {}
      },
      "source": [
        "tk = Tokenizer(num_words=None, char_level=True, oov_token='UNK')\n",
        "tk.fit_on_texts(X_train)"
      ],
      "execution_count": 0,
      "outputs": []
    },
    {
      "cell_type": "code",
      "metadata": {
        "id": "NqFHDDv68ncg",
        "colab_type": "code",
        "colab": {}
      },
      "source": [
        "X_train = tk.texts_to_sequences(X_train)\n",
        "X_test = tk.texts_to_sequences(X_test)\n",
        "tweets_lengths = list()"
      ],
      "execution_count": 0,
      "outputs": []
    },
    {
      "cell_type": "code",
      "metadata": {
        "id": "qUPAzlFJ81eB",
        "colab_type": "code",
        "outputId": "c0d16449-81ba-4bad-9920-1af8feecee8e",
        "colab": {
          "base_uri": "https://localhost:8080/",
          "height": 67
        }
      },
      "source": [
        "X_train = pad_sequences(X_train, maxlen=200, padding='post')\n",
        "X_test = pad_sequences(X_test, maxlen=200, padding='post')\n",
        "X_train = np.array(X_train, dtype='float32')\n",
        "X_test = np.array(X_test, dtype='float32')\n",
        "from keras.utils import to_categorical\n",
        "def categorize(arr):\n",
        "  cat = list()\n",
        "  for i in arr:\n",
        "    if(i == \"positive\"):\n",
        "      cat.append(0)\n",
        "    elif(i == \"negative\"):\n",
        "      cat.append(1)\n",
        "    else:\n",
        "      cat.append(2)\n",
        "  cat = np.array(cat,dtype='float32')\n",
        "  categorical = to_categorical(cat)\n",
        "  return categorical\n",
        "\n",
        "Y_train = categorize(Y_train)\n",
        "Y_test = categorize(Y_test)\n",
        "print(len(Y_test))\n",
        "print(len(X_test))\n",
        "vocab_size = len(tk.word_index)\n",
        "print(vocab_size)\n",
        "embedding_weights = []\n",
        "for char, i in tk.word_index.items():\n",
        "    onehot = np.zeros(vocab_size)\n",
        "    onehot[i - 1] = 1\n",
        "    embedding_weights.append(onehot)\n",
        "embedding_weights = np.array(embedding_weights)\n"
      ],
      "execution_count": 17,
      "outputs": [
        {
          "output_type": "stream",
          "text": [
            "1869\n",
            "1869\n",
            "880\n"
          ],
          "name": "stdout"
        }
      ]
    },
    {
      "cell_type": "code",
      "metadata": {
        "id": "3AAAoTa49MDc",
        "colab_type": "code",
        "outputId": "5d4a339b-8ca5-4c52-a5fc-e456f15280eb",
        "colab": {
          "base_uri": "https://localhost:8080/",
          "height": 1000
        }
      },
      "source": [
        "from keras.models import Sequential\n",
        "from keras.layers import Dense, Input, Conv1D, GlobalMaxPool1D, Embedding, Flatten, Dropout, MaxPooling1D\n",
        "from keras.layers import LSTM, Lambda, TimeDistributed, Bidirectional, concatenate\n",
        "embedding_size = vocab_size\n",
        "conv_layers = [[256, 7, 3], [256, 7, 3], [256, 3, -1],[256, 3, -1], [256, 3, -1],[256, 3, 3]]\n",
        "model = Sequential()\n",
        "model.add(Embedding(input_dim=vocab_size, output_dim=embedding_size, input_length = 200, weights=[embedding_weights]))\n",
        "for i, j, k in conv_layers:\n",
        "    model.add(Conv1D(i, j, activation='relu'))\n",
        "    if k != -1:\n",
        "        model.add(MaxPooling1D(pool_size=k))\n",
        "model.add(Flatten())\n",
        "model.add(Dense(units=1024, activation='relu'))\n",
        "model.add(Dropout(0.5))\n",
        "model.add(Dense(units=1024, activation='relu'))\n",
        "model.add(Dropout(0.5))\n",
        "model.add(Dense(units=3, activation='softmax'))\n",
        "model.summary()\n",
        "model.compile(optimizer='adam',loss='categorical_crossentropy',metrics=['accuracy'])"
      ],
      "execution_count": 18,
      "outputs": [
        {
          "output_type": "stream",
          "text": [
            "WARNING:tensorflow:From /usr/local/lib/python3.6/dist-packages/keras/backend/tensorflow_backend.py:66: The name tf.get_default_graph is deprecated. Please use tf.compat.v1.get_default_graph instead.\n",
            "\n",
            "WARNING:tensorflow:From /usr/local/lib/python3.6/dist-packages/keras/backend/tensorflow_backend.py:541: The name tf.placeholder is deprecated. Please use tf.compat.v1.placeholder instead.\n",
            "\n",
            "WARNING:tensorflow:From /usr/local/lib/python3.6/dist-packages/keras/backend/tensorflow_backend.py:4432: The name tf.random_uniform is deprecated. Please use tf.random.uniform instead.\n",
            "\n",
            "WARNING:tensorflow:From /usr/local/lib/python3.6/dist-packages/keras/backend/tensorflow_backend.py:190: The name tf.get_default_session is deprecated. Please use tf.compat.v1.get_default_session instead.\n",
            "\n",
            "WARNING:tensorflow:From /usr/local/lib/python3.6/dist-packages/keras/backend/tensorflow_backend.py:197: The name tf.ConfigProto is deprecated. Please use tf.compat.v1.ConfigProto instead.\n",
            "\n",
            "WARNING:tensorflow:From /usr/local/lib/python3.6/dist-packages/keras/backend/tensorflow_backend.py:203: The name tf.Session is deprecated. Please use tf.compat.v1.Session instead.\n",
            "\n",
            "WARNING:tensorflow:From /usr/local/lib/python3.6/dist-packages/keras/backend/tensorflow_backend.py:207: The name tf.global_variables is deprecated. Please use tf.compat.v1.global_variables instead.\n",
            "\n",
            "WARNING:tensorflow:From /usr/local/lib/python3.6/dist-packages/keras/backend/tensorflow_backend.py:216: The name tf.is_variable_initialized is deprecated. Please use tf.compat.v1.is_variable_initialized instead.\n",
            "\n",
            "WARNING:tensorflow:From /usr/local/lib/python3.6/dist-packages/keras/backend/tensorflow_backend.py:223: The name tf.variables_initializer is deprecated. Please use tf.compat.v1.variables_initializer instead.\n",
            "\n",
            "WARNING:tensorflow:From /usr/local/lib/python3.6/dist-packages/keras/backend/tensorflow_backend.py:4267: The name tf.nn.max_pool is deprecated. Please use tf.nn.max_pool2d instead.\n",
            "\n",
            "WARNING:tensorflow:From /usr/local/lib/python3.6/dist-packages/keras/backend/tensorflow_backend.py:148: The name tf.placeholder_with_default is deprecated. Please use tf.compat.v1.placeholder_with_default instead.\n",
            "\n",
            "WARNING:tensorflow:From /usr/local/lib/python3.6/dist-packages/keras/backend/tensorflow_backend.py:3733: calling dropout (from tensorflow.python.ops.nn_ops) with keep_prob is deprecated and will be removed in a future version.\n",
            "Instructions for updating:\n",
            "Please use `rate` instead of `keep_prob`. Rate should be set to `rate = 1 - keep_prob`.\n",
            "Model: \"sequential_1\"\n",
            "_________________________________________________________________\n",
            "Layer (type)                 Output Shape              Param #   \n",
            "=================================================================\n",
            "embedding_1 (Embedding)      (None, 200, 880)          774400    \n",
            "_________________________________________________________________\n",
            "conv1d_1 (Conv1D)            (None, 194, 256)          1577216   \n",
            "_________________________________________________________________\n",
            "max_pooling1d_1 (MaxPooling1 (None, 64, 256)           0         \n",
            "_________________________________________________________________\n",
            "conv1d_2 (Conv1D)            (None, 58, 256)           459008    \n",
            "_________________________________________________________________\n",
            "max_pooling1d_2 (MaxPooling1 (None, 19, 256)           0         \n",
            "_________________________________________________________________\n",
            "conv1d_3 (Conv1D)            (None, 17, 256)           196864    \n",
            "_________________________________________________________________\n",
            "conv1d_4 (Conv1D)            (None, 15, 256)           196864    \n",
            "_________________________________________________________________\n",
            "conv1d_5 (Conv1D)            (None, 13, 256)           196864    \n",
            "_________________________________________________________________\n",
            "conv1d_6 (Conv1D)            (None, 11, 256)           196864    \n",
            "_________________________________________________________________\n",
            "max_pooling1d_3 (MaxPooling1 (None, 3, 256)            0         \n",
            "_________________________________________________________________\n",
            "flatten_1 (Flatten)          (None, 768)               0         \n",
            "_________________________________________________________________\n",
            "dense_1 (Dense)              (None, 1024)              787456    \n",
            "_________________________________________________________________\n",
            "dropout_1 (Dropout)          (None, 1024)              0         \n",
            "_________________________________________________________________\n",
            "dense_2 (Dense)              (None, 1024)              1049600   \n",
            "_________________________________________________________________\n",
            "dropout_2 (Dropout)          (None, 1024)              0         \n",
            "_________________________________________________________________\n",
            "dense_3 (Dense)              (None, 3)                 3075      \n",
            "=================================================================\n",
            "Total params: 5,438,211\n",
            "Trainable params: 5,438,211\n",
            "Non-trainable params: 0\n",
            "_________________________________________________________________\n",
            "WARNING:tensorflow:From /usr/local/lib/python3.6/dist-packages/keras/optimizers.py:793: The name tf.train.Optimizer is deprecated. Please use tf.compat.v1.train.Optimizer instead.\n",
            "\n",
            "WARNING:tensorflow:From /usr/local/lib/python3.6/dist-packages/keras/backend/tensorflow_backend.py:3576: The name tf.log is deprecated. Please use tf.math.log instead.\n",
            "\n"
          ],
          "name": "stdout"
        }
      ]
    },
    {
      "cell_type": "code",
      "metadata": {
        "id": "Ie4zgZCRsG6B",
        "colab_type": "code",
        "outputId": "dffce73d-6298-435b-813f-236cbed25273",
        "colab": {
          "base_uri": "https://localhost:8080/",
          "height": 33
        }
      },
      "source": [
        "print(len(X_test),len(Y_test))"
      ],
      "execution_count": 19,
      "outputs": [
        {
          "output_type": "stream",
          "text": [
            "1869 1869\n"
          ],
          "name": "stdout"
        }
      ]
    },
    {
      "cell_type": "code",
      "metadata": {
        "id": "3s7nFyuMsLcq",
        "colab_type": "code",
        "outputId": "e6646bcb-405f-4c40-dbba-52c84a411eae",
        "colab": {
          "base_uri": "https://localhost:8080/",
          "height": 33
        }
      },
      "source": [
        "print(len(X_train),len(Y_train))"
      ],
      "execution_count": 20,
      "outputs": [
        {
          "output_type": "stream",
          "text": [
            "13524 13524\n"
          ],
          "name": "stdout"
        }
      ]
    },
    {
      "cell_type": "code",
      "metadata": {
        "id": "o4836rOCsTJd",
        "colab_type": "code",
        "outputId": "723113bb-d9f4-4cc6-e3ae-c16dcbf7f115",
        "colab": {
          "base_uri": "https://localhost:8080/",
          "height": 1000
        }
      },
      "source": [
        "model.fit(X_train, Y_train, batch_size=128, epochs=30, validation_data=(X_test, Y_test), verbose=1)"
      ],
      "execution_count": 22,
      "outputs": [
        {
          "output_type": "stream",
          "text": [
            "Train on 13524 samples, validate on 1869 samples\n",
            "Epoch 1/30\n",
            "13524/13524 [==============================] - 14s 1ms/step - loss: 0.0524 - acc: 0.9818 - val_loss: 2.9990 - val_acc: 0.5206\n",
            "Epoch 2/30\n",
            "13524/13524 [==============================] - 14s 1ms/step - loss: 0.0623 - acc: 0.9786 - val_loss: 2.8169 - val_acc: 0.5051\n",
            "Epoch 3/30\n",
            "13524/13524 [==============================] - 14s 1ms/step - loss: 0.0524 - acc: 0.9835 - val_loss: 3.1189 - val_acc: 0.5104\n",
            "Epoch 4/30\n",
            "13524/13524 [==============================] - 14s 1ms/step - loss: 0.0419 - acc: 0.9850 - val_loss: 3.3451 - val_acc: 0.5174\n",
            "Epoch 5/30\n",
            "13524/13524 [==============================] - 14s 1ms/step - loss: 0.0397 - acc: 0.9854 - val_loss: 3.2127 - val_acc: 0.4933\n",
            "Epoch 6/30\n",
            "13524/13524 [==============================] - 14s 1ms/step - loss: 0.0412 - acc: 0.9845 - val_loss: 3.3380 - val_acc: 0.4906\n",
            "Epoch 7/30\n",
            "13524/13524 [==============================] - 14s 1ms/step - loss: 0.0620 - acc: 0.9784 - val_loss: 3.1918 - val_acc: 0.5008\n",
            "Epoch 8/30\n",
            "13524/13524 [==============================] - 14s 1ms/step - loss: 0.0492 - acc: 0.9823 - val_loss: 3.2968 - val_acc: 0.5008\n",
            "Epoch 9/30\n",
            "13524/13524 [==============================] - 14s 1ms/step - loss: 0.0292 - acc: 0.9895 - val_loss: 3.4215 - val_acc: 0.5120\n",
            "Epoch 10/30\n",
            "13524/13524 [==============================] - 14s 1ms/step - loss: 0.0377 - acc: 0.9869 - val_loss: 3.4151 - val_acc: 0.4944\n",
            "Epoch 11/30\n",
            "13524/13524 [==============================] - 14s 1ms/step - loss: 0.0332 - acc: 0.9888 - val_loss: 3.3473 - val_acc: 0.5067\n",
            "Epoch 12/30\n",
            "13524/13524 [==============================] - 14s 1ms/step - loss: 0.0447 - acc: 0.9848 - val_loss: 3.0027 - val_acc: 0.5062\n",
            "Epoch 13/30\n",
            "13524/13524 [==============================] - 14s 1ms/step - loss: 0.0577 - acc: 0.9811 - val_loss: 2.9191 - val_acc: 0.5056\n",
            "Epoch 14/30\n",
            "13524/13524 [==============================] - 14s 1ms/step - loss: 0.0513 - acc: 0.9817 - val_loss: 3.5045 - val_acc: 0.5131\n",
            "Epoch 15/30\n",
            "13524/13524 [==============================] - 14s 1ms/step - loss: 0.0390 - acc: 0.9875 - val_loss: 3.3439 - val_acc: 0.5067\n",
            "Epoch 16/30\n",
            "13524/13524 [==============================] - 14s 1ms/step - loss: 0.0388 - acc: 0.9852 - val_loss: 3.5583 - val_acc: 0.5179\n",
            "Epoch 17/30\n",
            "13524/13524 [==============================] - 14s 1ms/step - loss: 0.0420 - acc: 0.9849 - val_loss: 3.0869 - val_acc: 0.5152\n",
            "Epoch 18/30\n",
            "13524/13524 [==============================] - 14s 1ms/step - loss: 0.0386 - acc: 0.9853 - val_loss: 3.2783 - val_acc: 0.5088\n",
            "Epoch 19/30\n",
            "13524/13524 [==============================] - 14s 1ms/step - loss: 0.0395 - acc: 0.9852 - val_loss: 3.3357 - val_acc: 0.5147\n",
            "Epoch 20/30\n",
            "13524/13524 [==============================] - 14s 1ms/step - loss: 0.0370 - acc: 0.9861 - val_loss: 3.6836 - val_acc: 0.5190\n",
            "Epoch 21/30\n",
            "13524/13524 [==============================] - 14s 1ms/step - loss: 0.0383 - acc: 0.9865 - val_loss: 3.6109 - val_acc: 0.5152\n",
            "Epoch 22/30\n",
            "13524/13524 [==============================] - 14s 1ms/step - loss: 0.0303 - acc: 0.9895 - val_loss: 3.9514 - val_acc: 0.5281\n",
            "Epoch 23/30\n",
            "13524/13524 [==============================] - 14s 1ms/step - loss: 0.0389 - acc: 0.9873 - val_loss: 3.1354 - val_acc: 0.5158\n",
            "Epoch 24/30\n",
            "13524/13524 [==============================] - 14s 1ms/step - loss: 0.0390 - acc: 0.9862 - val_loss: 3.2524 - val_acc: 0.5206\n",
            "Epoch 25/30\n",
            "13524/13524 [==============================] - 14s 1ms/step - loss: 0.0393 - acc: 0.9865 - val_loss: 3.6663 - val_acc: 0.5163\n",
            "Epoch 26/30\n",
            "13524/13524 [==============================] - 14s 1ms/step - loss: 0.0457 - acc: 0.9832 - val_loss: 2.9645 - val_acc: 0.5142\n",
            "Epoch 27/30\n",
            "13524/13524 [==============================] - 14s 1ms/step - loss: 0.0381 - acc: 0.9867 - val_loss: 3.4431 - val_acc: 0.5131\n",
            "Epoch 28/30\n",
            "13524/13524 [==============================] - 14s 1ms/step - loss: 0.0251 - acc: 0.9909 - val_loss: 3.7209 - val_acc: 0.5249\n",
            "Epoch 29/30\n",
            "13524/13524 [==============================] - 14s 1ms/step - loss: 0.0213 - acc: 0.9911 - val_loss: 3.4445 - val_acc: 0.5302\n",
            "Epoch 30/30\n",
            "13524/13524 [==============================] - 14s 1ms/step - loss: 0.0269 - acc: 0.9907 - val_loss: 3.8838 - val_acc: 0.5169\n"
          ],
          "name": "stdout"
        },
        {
          "output_type": "execute_result",
          "data": {
            "text/plain": [
              "<keras.callbacks.History at 0x7fa1bbf2e748>"
            ]
          },
          "metadata": {
            "tags": []
          },
          "execution_count": 22
        }
      ]
    },
    {
      "cell_type": "code",
      "metadata": {
        "id": "IWj-7EnTIVt1",
        "colab_type": "code",
        "colab": {}
      },
      "source": [
        "from sklearn.metrics import confusion_matrix, f1_score, precision_score, recall_score, accuracy_score"
      ],
      "execution_count": 0,
      "outputs": []
    },
    {
      "cell_type": "code",
      "metadata": {
        "id": "8Z9bWEadJVs4",
        "colab_type": "code",
        "colab": {}
      },
      "source": [
        "f1score = []\n",
        "recalls = []\n",
        "precisions = []\n",
        "\n",
        "predict = (np.array(model.predict(X_test))).round() \n",
        "targ = Y_test\n",
        "f1 = f1_score(targ, predict,average=None)\n",
        "recall = recall_score(targ, predict,average=None)\n",
        "precision = precision_score(targ, predict,average=None)\n",
        "accuracy = accuracy_score(targ, predict)\n",
        "f1score.append(f1)\n",
        "recalls.append(recall)\n",
        "precisions.append(precision)\n"
      ],
      "execution_count": 0,
      "outputs": []
    },
    {
      "cell_type": "code",
      "metadata": {
        "id": "EI_RwtTELgFB",
        "colab_type": "code",
        "colab": {
          "base_uri": "https://localhost:8080/",
          "height": 184
        },
        "outputId": "fabd69d3-857f-4f1c-82db-77d41a4897bb"
      },
      "source": [
        "print(\"f1_Positive: %f \" %(f1[0]))\n",
        "print(\"f1_Negetive: %f \" %(f1[1]))\n",
        "print(\"f1_Neutral: %f \" %(f1[2]))\n",
        "print(\"precision_Positive: %f\" %(precision[0]))\n",
        "print(\"precision_Negetive: %f\" %(precision[1]))\n",
        "print(\"precision_Neutral: %f\" %(precision[2]))\n",
        "print(\"recall_Positive %f \" %(recall[0]))\n",
        "print(\"nrecall_Negetive %f\" %(recall[1]))\n",
        "print(\"recall_Neutral %f\" %(recall[2]))\n",
        "print(\"Accuracy: %f percent\" %(accuracy*100))"
      ],
      "execution_count": 26,
      "outputs": [
        {
          "output_type": "stream",
          "text": [
            "f1_Positive: 0.555369 \n",
            "f1_Negetive: 0.487047 \n",
            "f1_Neutral: 0.507292 \n",
            "precision_Positive: 0.542623\n",
            "precision_Negetive: 0.543981\n",
            "precision_Neutral: 0.486027\n",
            "recall_Positive 0.568729 \n",
            "nrecall_Negetive 0.440901\n",
            "recall_Neutral 0.530504\n",
            "Accuracy: 51.685393 percent\n"
          ],
          "name": "stdout"
        }
      ]
    }
  ]
}
