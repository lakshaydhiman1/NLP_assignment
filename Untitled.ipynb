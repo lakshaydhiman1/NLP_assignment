{
  "nbformat": 4,
  "nbformat_minor": 0,
  "metadata": {
    "colab": {
      "name": "Untitled",
      "provenance": []
    },
    "kernelspec": {
      "name": "python3",
      "display_name": "Python 3"
    },
    "accelerator": "GPU"
  },
  "cells": [
    {
      "cell_type": "code",
      "metadata": {
        "id": "NR0_y5b57xzE",
        "colab_type": "code",
        "colab": {}
      },
      "source": [
        "import numpy as np\n",
        "import pandas as pd\n",
        "import string \n",
        "from nltk.tokenize import TweetTokenizer\n",
        "from keras.preprocessing.text import Tokenizer\n",
        "from keras.preprocessing.sequence import pad_sequences"
      ],
      "execution_count": 0,
      "outputs": []
    },
    {
      "cell_type": "code",
      "metadata": {
        "id": "WpsmFyZW71h1",
        "colab_type": "code",
        "outputId": "6d1c5ca5-861f-4efa-aa88-526e2b60d96e",
        "colab": {
          "base_uri": "https://localhost:8080/",
          "height": 120
        }
      },
      "source": [
        "from google.colab import drive\n",
        "drive.mount('/content/drive')"
      ],
      "execution_count": 0,
      "outputs": [
        {
          "output_type": "stream",
          "text": [
            "Go to this URL in a browser: https://accounts.google.com/o/oauth2/auth?client_id=947318989803-6bn6qk8qdgf4n4g3pfee6491hc0brc4i.apps.googleusercontent.com&redirect_uri=urn%3aietf%3awg%3aoauth%3a2.0%3aoob&response_type=code&scope=email%20https%3a%2f%2fwww.googleapis.com%2fauth%2fdocs.test%20https%3a%2f%2fwww.googleapis.com%2fauth%2fdrive%20https%3a%2f%2fwww.googleapis.com%2fauth%2fdrive.photos.readonly%20https%3a%2f%2fwww.googleapis.com%2fauth%2fpeopleapi.readonly\n",
            "\n",
            "Enter your authorization code:\n",
            "··········\n",
            "Mounted at /content/drive\n"
          ],
          "name": "stdout"
        }
      ]
    },
    {
      "cell_type": "code",
      "metadata": {
        "id": "xDCOVZw274HD",
        "colab_type": "code",
        "outputId": "d0be8626-da4a-493e-9f2c-c04dbf0a5272",
        "colab": {
          "base_uri": "https://localhost:8080/",
          "height": 217
        }
      },
      "source": [
        "train_ = pd.read_csv('/content/drive/My Drive/train.csv', delimiter=\"\\t\")\n",
        "test_=pd.read_csv('/content/drive/My Drive/test.csv', delimiter=\"\\t\")\n",
        "print(train_.head())\n",
        "print(test_.head())"
      ],
      "execution_count": 0,
      "outputs": [
        {
          "output_type": "stream",
          "text": [
            "            meta  uid sentiment\n",
            "0           meta    3  negative\n",
            "1              @    O       NaN\n",
            "2  AdilNisarButt  Hin       NaN\n",
            "3       pakistan  Hin       NaN\n",
            "4             ka  Hin       NaN\n",
            "              meta  uid sentiment\n",
            "0             meta    8   neutral\n",
            "1               RT  Eng       NaN\n",
            "2                @    O       NaN\n",
            "3  UAAPconfessions  Eng       NaN\n",
            "4             Love  Eng       NaN\n"
          ],
          "name": "stdout"
        }
      ]
    },
    {
      "cell_type": "code",
      "metadata": {
        "id": "guJ0ixtj7-HR",
        "colab_type": "code",
        "colab": {}
      },
      "source": [
        "def extractdat(dataframe):\n",
        "  data = dataframe.loc[:,['meta','sentiment']]\n",
        "  t = \"\"\n",
        "  x = list()\n",
        "  y = list()\n",
        "  for i in range(data.shape[0]):\n",
        "    if(data.iloc[i,0]==\"meta\"):\n",
        "      x.append(t.strip())\n",
        "      y.append(str(data.iloc[i,1]))\n",
        "      t=\"\"\n",
        "    else:\n",
        "      t += (str(data.iloc[i,0])+\" \")\n",
        "  \n",
        "  x.append(t.strip())\n",
        "  \n",
        "  return x[1:], y"
      ],
      "execution_count": 0,
      "outputs": []
    },
    {
      "cell_type": "code",
      "metadata": {
        "id": "rukOaNz-8Beo",
        "colab_type": "code",
        "colab": {}
      },
      "source": [
        "X_train, Y_train = extractdat(train_)\n",
        "X_test, Y_test = extractdat(test_)"
      ],
      "execution_count": 0,
      "outputs": []
    },
    {
      "cell_type": "code",
      "metadata": {
        "id": "O9STP0-D8S_U",
        "colab_type": "code",
        "outputId": "97bac25d-1b57-42b9-f259-1b5f20ae22d8",
        "colab": {
          "base_uri": "https://localhost:8080/",
          "height": 33
        }
      },
      "source": [
        "print(len(X_train), len(Y_train), len(X_test), len(Y_test))"
      ],
      "execution_count": 0,
      "outputs": [
        {
          "output_type": "stream",
          "text": [
            "13524 13524 1869 1869\n"
          ],
          "name": "stdout"
        }
      ]
    },
    {
      "cell_type": "code",
      "metadata": {
        "id": "3oDNcc4j8XLD",
        "colab_type": "code",
        "colab": {}
      },
      "source": [
        "def clean_tweets(text, tknzr):\n",
        "  tweet_tokens = tknzr.tokenize(text)\n",
        "  t = \"\"\n",
        "  for j in tweet_tokens:\n",
        "    if(j not in string.punctuation and j not in ['…']):\n",
        "      t += (j.lower())\n",
        "      t+=\" \"\n",
        "  return t.strip()"
      ],
      "execution_count": 0,
      "outputs": []
    },
    {
      "cell_type": "code",
      "metadata": {
        "id": "Ke02W2RI8Zco",
        "colab_type": "code",
        "colab": {}
      },
      "source": [
        "tknzr = TweetTokenizer(strip_handles=True, reduce_len=True)"
      ],
      "execution_count": 0,
      "outputs": []
    },
    {
      "cell_type": "code",
      "metadata": {
        "id": "xSDuw8sA8aWo",
        "colab_type": "code",
        "colab": {}
      },
      "source": [
        "for i in range(len(X_train)):\n",
        "  X_train[i]=(clean_tweets(X_train[i],tknzr))"
      ],
      "execution_count": 0,
      "outputs": []
    },
    {
      "cell_type": "code",
      "metadata": {
        "id": "hsp7D7_Y8gcy",
        "colab_type": "code",
        "colab": {}
      },
      "source": [
        "for i in range(len(X_test)):\n",
        "  X_test[i]=(clean_tweets(X_test[i], tknzr))"
      ],
      "execution_count": 0,
      "outputs": []
    },
    {
      "cell_type": "code",
      "metadata": {
        "id": "Teuale5x8lYt",
        "colab_type": "code",
        "colab": {}
      },
      "source": [
        "tk = Tokenizer(num_words=None, char_level=True, oov_token='UNK')\n",
        "tk.fit_on_texts(X_train)"
      ],
      "execution_count": 0,
      "outputs": []
    },
    {
      "cell_type": "code",
      "metadata": {
        "id": "NqFHDDv68ncg",
        "colab_type": "code",
        "outputId": "7ec14d47-e058-4887-c45e-01c70b44f33c",
        "colab": {
          "base_uri": "https://localhost:8080/",
          "height": 33
        }
      },
      "source": [
        "X_train = tk.texts_to_sequences(X_train)\n",
        "X_test = tk.texts_to_sequences(X_test)\n",
        "tweets_lengths = list()\n",
        "for i in X_train:\n",
        "  tweets_lengths.append(len(i))\n",
        "print(max(tweets_lengths))"
      ],
      "execution_count": 0,
      "outputs": [
        {
          "output_type": "stream",
          "text": [
            "312174\n"
          ],
          "name": "stdout"
        }
      ]
    },
    {
      "cell_type": "code",
      "metadata": {
        "id": "qUPAzlFJ81eB",
        "colab_type": "code",
        "outputId": "4870d661-a647-4cbc-f15b-9c4ee6e5dbbc",
        "colab": {
          "base_uri": "https://localhost:8080/",
          "height": 67
        }
      },
      "source": [
        "X_train = pad_sequences(X_train, maxlen=200, padding='post')\n",
        "X_test = pad_sequences(X_test, maxlen=200, padding='post')\n",
        "X_train = np.array(X_train, dtype='float32')\n",
        "X_test = np.array(X_test, dtype='float32')\n",
        "from keras.utils import to_categorical\n",
        "def categorize(arr):\n",
        "  cat = list()\n",
        "  for i in arr:\n",
        "    if(i == \"positive\"):\n",
        "      cat.append(0)\n",
        "    elif(i == \"negative\"):\n",
        "      cat.append(1)\n",
        "    else:\n",
        "      cat.append(2)\n",
        "  cat = np.array(cat,dtype='float32')\n",
        "  categorical = to_categorical(cat)\n",
        "  return categorical\n",
        "\n",
        "Y_train = categorize(Y_train)\n",
        "Y_test = categorize(Y_test)\n",
        "print(len(Y_test))\n",
        "print(len(X_test))\n",
        "vocab_size = len(tk.word_index)\n",
        "print(vocab_size)\n",
        "embedding_weights = []\n",
        "for char, i in tk.word_index.items():\n",
        "    onehot = np.zeros(vocab_size)\n",
        "    onehot[i - 1] = 1\n",
        "    embedding_weights.append(onehot)\n",
        "embedding_weights = np.array(embedding_weights)\n"
      ],
      "execution_count": 0,
      "outputs": [
        {
          "output_type": "stream",
          "text": [
            "1869\n",
            "1869\n",
            "880\n"
          ],
          "name": "stdout"
        }
      ]
    },
    {
      "cell_type": "code",
      "metadata": {
        "id": "3AAAoTa49MDc",
        "colab_type": "code",
        "outputId": "4b4a819f-8ebe-435c-b518-492269cb2ce3",
        "colab": {
          "base_uri": "https://localhost:8080/",
          "height": 686
        }
      },
      "source": [
        "from keras.models import Sequential\n",
        "from keras.layers import Dense, Input, Conv1D, GlobalMaxPool1D, Embedding, Flatten, Dropout, MaxPooling1D\n",
        "from keras.layers import LSTM, Lambda, TimeDistributed, Bidirectional, concatenate\n",
        "embedding_size = vocab_size\n",
        "conv_layers = [[256, 7, 3], [256, 7, 3], [256, 3, -1],[256, 3, -1], [256, 3, -1],[256, 3, 3]]\n",
        "model = Sequential()\n",
        "model.add(Embedding(input_dim=vocab_size, output_dim=embedding_size, input_length = 200, weights=[embedding_weights]))\n",
        "for i, j, k in conv_layers:\n",
        "    model.add(Conv1D(i, j, activation='relu'))\n",
        "    if k != -1:\n",
        "        model.add(MaxPooling1D(pool_size=k))\n",
        "model.add(Flatten())\n",
        "model.add(Dense(units=1024, activation='relu'))\n",
        "model.add(Dropout(0.5))\n",
        "model.add(Dense(units=1024, activation='relu'))\n",
        "model.add(Dropout(0.5))\n",
        "model.add(Dense(units=3, activation='softmax'))\n",
        "model.summary()\n",
        "model.compile(optimizer='adam',loss='categorical_crossentropy',metrics=['accuracy'])"
      ],
      "execution_count": 0,
      "outputs": [
        {
          "output_type": "stream",
          "text": [
            "Model: \"sequential_4\"\n",
            "_________________________________________________________________\n",
            "Layer (type)                 Output Shape              Param #   \n",
            "=================================================================\n",
            "embedding_4 (Embedding)      (None, 200, 880)          774400    \n",
            "_________________________________________________________________\n",
            "conv1d_19 (Conv1D)           (None, 194, 256)          1577216   \n",
            "_________________________________________________________________\n",
            "max_pooling1d_10 (MaxPooling (None, 64, 256)           0         \n",
            "_________________________________________________________________\n",
            "conv1d_20 (Conv1D)           (None, 58, 256)           459008    \n",
            "_________________________________________________________________\n",
            "max_pooling1d_11 (MaxPooling (None, 19, 256)           0         \n",
            "_________________________________________________________________\n",
            "conv1d_21 (Conv1D)           (None, 17, 256)           196864    \n",
            "_________________________________________________________________\n",
            "conv1d_22 (Conv1D)           (None, 15, 256)           196864    \n",
            "_________________________________________________________________\n",
            "conv1d_23 (Conv1D)           (None, 13, 256)           196864    \n",
            "_________________________________________________________________\n",
            "conv1d_24 (Conv1D)           (None, 11, 256)           196864    \n",
            "_________________________________________________________________\n",
            "max_pooling1d_12 (MaxPooling (None, 3, 256)            0         \n",
            "_________________________________________________________________\n",
            "flatten_4 (Flatten)          (None, 768)               0         \n",
            "_________________________________________________________________\n",
            "dense_10 (Dense)             (None, 1024)              787456    \n",
            "_________________________________________________________________\n",
            "dropout_7 (Dropout)          (None, 1024)              0         \n",
            "_________________________________________________________________\n",
            "dense_11 (Dense)             (None, 1024)              1049600   \n",
            "_________________________________________________________________\n",
            "dropout_8 (Dropout)          (None, 1024)              0         \n",
            "_________________________________________________________________\n",
            "dense_12 (Dense)             (None, 3)                 3075      \n",
            "=================================================================\n",
            "Total params: 5,438,211\n",
            "Trainable params: 5,438,211\n",
            "Non-trainable params: 0\n",
            "_________________________________________________________________\n"
          ],
          "name": "stdout"
        }
      ]
    },
    {
      "cell_type": "code",
      "metadata": {
        "id": "Ie4zgZCRsG6B",
        "colab_type": "code",
        "outputId": "8ab29d9f-cef1-4c26-82b5-466f7e7cd7e7",
        "colab": {
          "base_uri": "https://localhost:8080/",
          "height": 33
        }
      },
      "source": [
        "print(len(X_test),len(Y_test))"
      ],
      "execution_count": 0,
      "outputs": [
        {
          "output_type": "stream",
          "text": [
            "1869 1869\n"
          ],
          "name": "stdout"
        }
      ]
    },
    {
      "cell_type": "code",
      "metadata": {
        "id": "3s7nFyuMsLcq",
        "colab_type": "code",
        "outputId": "8ef31a5b-3869-48d7-ff11-75a758c24b85",
        "colab": {
          "base_uri": "https://localhost:8080/",
          "height": 33
        }
      },
      "source": [
        "print(len(X_train),len(Y_train))"
      ],
      "execution_count": 0,
      "outputs": [
        {
          "output_type": "stream",
          "text": [
            "13524 13524\n"
          ],
          "name": "stdout"
        }
      ]
    },
    {
      "cell_type": "code",
      "metadata": {
        "id": "o4836rOCsTJd",
        "colab_type": "code",
        "outputId": "c17a8776-c76b-4687-d67c-3f7ac20f3430",
        "colab": {
          "base_uri": "https://localhost:8080/",
          "height": 1000
        }
      },
      "source": [
        "model.fit(X_train, Y_train, batch_size=128, epochs=30, validation_data=(X_test, Y_test), verbose=1)"
      ],
      "execution_count": 0,
      "outputs": [
        {
          "output_type": "stream",
          "text": [
            "Train on 13524 samples, validate on 1869 samples\n",
            "Epoch 1/30\n",
            "13524/13524 [==============================] - 7s 500us/step - loss: 0.0598 - acc: 0.9794 - val_loss: 3.0483 - val_acc: 0.5094\n",
            "Epoch 2/30\n",
            "13524/13524 [==============================] - 7s 493us/step - loss: 0.0733 - acc: 0.9752 - val_loss: 2.9716 - val_acc: 0.5158\n",
            "Epoch 3/30\n",
            "13524/13524 [==============================] - 7s 492us/step - loss: 0.0491 - acc: 0.9822 - val_loss: 3.2537 - val_acc: 0.5195\n",
            "Epoch 4/30\n",
            "13524/13524 [==============================] - 7s 493us/step - loss: 0.0380 - acc: 0.9861 - val_loss: 3.1985 - val_acc: 0.5147\n",
            "Epoch 5/30\n",
            "13524/13524 [==============================] - 7s 493us/step - loss: 0.0514 - acc: 0.9814 - val_loss: 3.0338 - val_acc: 0.5201\n",
            "Epoch 6/30\n",
            "13524/13524 [==============================] - 7s 493us/step - loss: 0.0611 - acc: 0.9794 - val_loss: 2.8570 - val_acc: 0.5276\n",
            "Epoch 7/30\n",
            "13524/13524 [==============================] - 7s 493us/step - loss: 0.0440 - acc: 0.9831 - val_loss: 3.1453 - val_acc: 0.5029\n",
            "Epoch 8/30\n",
            "13524/13524 [==============================] - 7s 493us/step - loss: 0.0511 - acc: 0.9829 - val_loss: 3.1386 - val_acc: 0.4890\n",
            "Epoch 9/30\n",
            "13524/13524 [==============================] - 7s 493us/step - loss: 0.0475 - acc: 0.9831 - val_loss: 3.0966 - val_acc: 0.5072\n",
            "Epoch 10/30\n",
            "13524/13524 [==============================] - 7s 493us/step - loss: 0.0361 - acc: 0.9884 - val_loss: 2.9440 - val_acc: 0.5094\n",
            "Epoch 11/30\n",
            "13524/13524 [==============================] - 7s 494us/step - loss: 0.0304 - acc: 0.9889 - val_loss: 3.3701 - val_acc: 0.5104\n",
            "Epoch 12/30\n",
            "13524/13524 [==============================] - 7s 494us/step - loss: 0.0344 - acc: 0.9851 - val_loss: 3.2878 - val_acc: 0.5062\n",
            "Epoch 13/30\n",
            "13524/13524 [==============================] - 7s 493us/step - loss: 0.0412 - acc: 0.9854 - val_loss: 3.1257 - val_acc: 0.5024\n",
            "Epoch 14/30\n",
            "13524/13524 [==============================] - 7s 494us/step - loss: 0.0423 - acc: 0.9852 - val_loss: 3.0248 - val_acc: 0.5040\n",
            "Epoch 15/30\n",
            "13524/13524 [==============================] - 7s 494us/step - loss: 0.0384 - acc: 0.9864 - val_loss: 2.9428 - val_acc: 0.5099\n",
            "Epoch 16/30\n",
            "13524/13524 [==============================] - 7s 494us/step - loss: 0.0366 - acc: 0.9871 - val_loss: 3.3382 - val_acc: 0.5147\n",
            "Epoch 17/30\n",
            "13524/13524 [==============================] - 7s 494us/step - loss: 0.0419 - acc: 0.9862 - val_loss: 3.5156 - val_acc: 0.5088\n",
            "Epoch 18/30\n",
            "13524/13524 [==============================] - 7s 493us/step - loss: 0.0358 - acc: 0.9870 - val_loss: 2.9030 - val_acc: 0.5136\n",
            "Epoch 19/30\n",
            "13524/13524 [==============================] - 7s 494us/step - loss: 0.0296 - acc: 0.9887 - val_loss: 3.3789 - val_acc: 0.5206\n",
            "Epoch 20/30\n",
            "13524/13524 [==============================] - 7s 493us/step - loss: 0.0426 - acc: 0.9854 - val_loss: 3.7691 - val_acc: 0.4992\n",
            "Epoch 21/30\n",
            "13524/13524 [==============================] - 7s 493us/step - loss: 0.0744 - acc: 0.9734 - val_loss: 2.9475 - val_acc: 0.5115\n",
            "Epoch 22/30\n",
            "13524/13524 [==============================] - 7s 493us/step - loss: 0.0449 - acc: 0.9841 - val_loss: 3.0139 - val_acc: 0.5185\n",
            "Epoch 23/30\n",
            "13524/13524 [==============================] - 7s 494us/step - loss: 0.0258 - acc: 0.9902 - val_loss: 3.6933 - val_acc: 0.5099\n",
            "Epoch 24/30\n",
            "13524/13524 [==============================] - 7s 494us/step - loss: 0.0337 - acc: 0.9891 - val_loss: 2.9536 - val_acc: 0.5104\n",
            "Epoch 25/30\n",
            "13524/13524 [==============================] - 7s 493us/step - loss: 0.0624 - acc: 0.9790 - val_loss: 2.8264 - val_acc: 0.5227\n",
            "Epoch 26/30\n",
            "13524/13524 [==============================] - 7s 493us/step - loss: 0.0427 - acc: 0.9862 - val_loss: 2.8958 - val_acc: 0.5067\n",
            "Epoch 27/30\n",
            "13524/13524 [==============================] - 7s 493us/step - loss: 0.0324 - acc: 0.9893 - val_loss: 3.2196 - val_acc: 0.4992\n",
            "Epoch 28/30\n",
            "13524/13524 [==============================] - 7s 494us/step - loss: 0.0403 - acc: 0.9859 - val_loss: 3.7269 - val_acc: 0.4997\n",
            "Epoch 29/30\n",
            "13524/13524 [==============================] - 7s 494us/step - loss: 0.0360 - acc: 0.9871 - val_loss: 3.3525 - val_acc: 0.5179\n",
            "Epoch 30/30\n",
            "13524/13524 [==============================] - 7s 494us/step - loss: 0.0279 - acc: 0.9885 - val_loss: 3.5799 - val_acc: 0.5099\n"
          ],
          "name": "stdout"
        },
        {
          "output_type": "execute_result",
          "data": {
            "text/plain": [
              "<keras.callbacks.History at 0x7fd9acc38f60>"
            ]
          },
          "metadata": {
            "tags": []
          },
          "execution_count": 47
        }
      ]
    }
  ]
}